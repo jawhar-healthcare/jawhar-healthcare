{
 "cells": [
  {
   "cell_type": "code",
   "execution_count": 126,
   "metadata": {},
   "outputs": [
    {
     "name": "stdout",
     "output_type": "stream",
     "text": [
      "/opt/conda/lib/python3.7/site-packages/secretstorage/dhcrypto.py:16: CryptographyDeprecationWarning: int_from_bytes is deprecated, use int.from_bytes instead\n",
      "  from cryptography.utils import int_from_bytes\n",
      "/opt/conda/lib/python3.7/site-packages/secretstorage/util.py:25: CryptographyDeprecationWarning: int_from_bytes is deprecated, use int.from_bytes instead\n",
      "  from cryptography.utils import int_from_bytes\n",
      "Requirement already satisfied: s3fs in /opt/conda/lib/python3.7/site-packages (2021.11.1)\n",
      "Requirement already satisfied: aiohttp<=4 in /opt/conda/lib/python3.7/site-packages (from s3fs) (3.8.1)\n",
      "Requirement already satisfied: aiobotocore~=2.0.1 in /opt/conda/lib/python3.7/site-packages (from s3fs) (2.0.1)\n",
      "Requirement already satisfied: fsspec==2021.11.1 in /opt/conda/lib/python3.7/site-packages (from s3fs) (2021.11.1)\n",
      "Requirement already satisfied: aioitertools>=0.5.1 in /opt/conda/lib/python3.7/site-packages (from aiobotocore~=2.0.1->s3fs) (0.8.0)\n",
      "Requirement already satisfied: wrapt>=1.10.10 in /opt/conda/lib/python3.7/site-packages (from aiobotocore~=2.0.1->s3fs) (1.11.2)\n",
      "Requirement already satisfied: botocore<1.22.9,>=1.22.8 in /opt/conda/lib/python3.7/site-packages (from aiobotocore~=2.0.1->s3fs) (1.22.8)\n",
      "Requirement already satisfied: charset-normalizer<3.0,>=2.0 in /opt/conda/lib/python3.7/site-packages (from aiohttp<=4->s3fs) (2.0.4)\n",
      "Requirement already satisfied: async-timeout<5.0,>=4.0.0a3 in /opt/conda/lib/python3.7/site-packages (from aiohttp<=4->s3fs) (4.0.1)\n",
      "Requirement already satisfied: yarl<2.0,>=1.0 in /opt/conda/lib/python3.7/site-packages (from aiohttp<=4->s3fs) (1.7.2)\n",
      "Requirement already satisfied: asynctest==0.13.0 in /opt/conda/lib/python3.7/site-packages (from aiohttp<=4->s3fs) (0.13.0)\n",
      "Requirement already satisfied: aiosignal>=1.1.2 in /opt/conda/lib/python3.7/site-packages (from aiohttp<=4->s3fs) (1.2.0)\n",
      "Requirement already satisfied: multidict<7.0,>=4.5 in /opt/conda/lib/python3.7/site-packages (from aiohttp<=4->s3fs) (5.2.0)\n",
      "Requirement already satisfied: attrs>=17.3.0 in /opt/conda/lib/python3.7/site-packages (from aiohttp<=4->s3fs) (19.3.0)\n",
      "Requirement already satisfied: typing-extensions>=3.7.4 in /opt/conda/lib/python3.7/site-packages (from aiohttp<=4->s3fs) (4.0.1)\n",
      "Requirement already satisfied: frozenlist>=1.1.1 in /opt/conda/lib/python3.7/site-packages (from aiohttp<=4->s3fs) (1.2.0)\n",
      "Requirement already satisfied: jmespath<1.0.0,>=0.7.1 in /opt/conda/lib/python3.7/site-packages (from botocore<1.22.9,>=1.22.8->aiobotocore~=2.0.1->s3fs) (0.10.0)\n",
      "Requirement already satisfied: urllib3<1.27,>=1.25.4 in /opt/conda/lib/python3.7/site-packages (from botocore<1.22.9,>=1.22.8->aiobotocore~=2.0.1->s3fs) (1.26.7)\n",
      "Requirement already satisfied: python-dateutil<3.0.0,>=2.1 in /opt/conda/lib/python3.7/site-packages (from botocore<1.22.9,>=1.22.8->aiobotocore~=2.0.1->s3fs) (2.8.1)\n",
      "Requirement already satisfied: idna>=2.0 in /opt/conda/lib/python3.7/site-packages (from yarl<2.0,>=1.0->aiohttp<=4->s3fs) (2.8)\n",
      "Requirement already satisfied: six>=1.5 in /opt/conda/lib/python3.7/site-packages (from python-dateutil<3.0.0,>=2.1->botocore<1.22.9,>=1.22.8->aiobotocore~=2.0.1->s3fs) (1.14.0)\n",
      "\u001b[33mWARNING: Running pip as the 'root' user can result in broken permissions and conflicting behaviour with the system package manager. It is recommended to use a virtual environment instead: https://pip.pypa.io/warnings/venv\u001b[0m\n",
      "\u001b[33mWARNING: You are using pip version 21.3.1; however, version 22.0.4 is available.\n",
      "You should consider upgrading via the '/opt/conda/bin/python -m pip install --upgrade pip' command.\u001b[0m\n"
     ]
    }
   ],
   "source": [
    "!pip install s3fs\n",
    "\n",
    "import boto3\n",
    "import sagemaker\n",
    "from sagemaker.session import Session\n",
    "# from sagemaker.feature_store.feature_group import FeatureGroup\n",
    "\n",
    "region = boto3.Session().region_name\n",
    "\n",
    "boto_session = boto3.Session(region_name=region)\n",
    "\n",
    "sagemaker_client = boto_session.client(service_name='sagemaker', region_name=region)\n",
    "featurestore_runtime = boto_session.client(service_name='sagemaker-featurestore-runtime', region_name=region)\n",
    "# featuregroup_name = 'transactions-fg-manual-ingest'\n",
    "\n",
    "feature_store_session = Session(\n",
    "    boto_session=boto_session,\n",
    "    sagemaker_client=sagemaker_client,\n",
    "    sagemaker_featurestore_runtime_client=featurestore_runtime\n",
    ")\n",
    "# feature_group = FeatureGroup(name=featuregroup_name, sagemaker_session=feature_store_session)"
   ]
  },
  {
   "cell_type": "code",
   "execution_count": 127,
   "metadata": {},
   "outputs": [
    {
     "name": "stdout",
     "output_type": "stream",
     "text": [
      "sagemaker-us-east-1-915124832670\n"
     ]
    }
   ],
   "source": [
    "# record_identifier_feature_name = \"ZIP\"\n",
    "# event_time_feature_name = \"EventTime\"\n",
    "\n",
    "# change the bucket name to your desired bucket name \n",
    "default_s3_bucket_name = feature_store_session.default_bucket()\n",
    "prefix = ' hc-ds-pre-aca-tier'\n",
    "\n",
    "print(default_s3_bucket_name)\n",
    "\n",
    "# fg_test.create(\n",
    "#     s3_uri=f\"s3://{bucket}/{s3_folder}\",\n",
    "#     record_identifier_name=record_identifier_feature_name,\n",
    "#     event_time_feature_name=event_time_feature_name,\n",
    "#     role_arn=role,\n",
    "#     enable_online_store=False)\n"
   ]
  },
  {
   "cell_type": "code",
   "execution_count": 128,
   "metadata": {},
   "outputs": [
    {
     "name": "stdout",
     "output_type": "stream",
     "text": [
      "arn:aws:iam::915124832670:role/hc-sagemaker-default-execution-role\n"
     ]
    }
   ],
   "source": [
    "from sagemaker import get_execution_role\n",
    "\n",
    "# You can modify the following to use a role of your choosing. See the documentation for how to create this.\n",
    "role = get_execution_role()\n",
    "print (role)"
   ]
  },
  {
   "cell_type": "code",
   "execution_count": 125,
   "metadata": {},
   "outputs": [
    {
     "data": {
      "text/html": [
       "<div>\n",
       "<style scoped>\n",
       "    .dataframe tbody tr th:only-of-type {\n",
       "        vertical-align: middle;\n",
       "    }\n",
       "\n",
       "    .dataframe tbody tr th {\n",
       "        vertical-align: top;\n",
       "    }\n",
       "\n",
       "    .dataframe thead th {\n",
       "        text-align: right;\n",
       "    }\n",
       "</style>\n",
       "<table border=\"1\" class=\"dataframe\">\n",
       "  <thead>\n",
       "    <tr style=\"text-align: right;\">\n",
       "      <th></th>\n",
       "      <th>state</th>\n",
       "      <th>county</th>\n",
       "      <th>total</th>\n",
       "      <th>fip</th>\n",
       "    </tr>\n",
       "  </thead>\n",
       "  <tbody>\n",
       "    <tr>\n",
       "      <th>0</th>\n",
       "      <td>AL</td>\n",
       "      <td>BALDWIN</td>\n",
       "      <td>-3.0</td>\n",
       "      <td>1003</td>\n",
       "    </tr>\n",
       "    <tr>\n",
       "      <th>1</th>\n",
       "      <td>AL</td>\n",
       "      <td>GENEVA</td>\n",
       "      <td>-3.0</td>\n",
       "      <td>1061</td>\n",
       "    </tr>\n",
       "    <tr>\n",
       "      <th>2</th>\n",
       "      <td>AL</td>\n",
       "      <td>HENRY</td>\n",
       "      <td>-3.0</td>\n",
       "      <td>1067</td>\n",
       "    </tr>\n",
       "    <tr>\n",
       "      <th>3</th>\n",
       "      <td>AL</td>\n",
       "      <td>HOUSTON</td>\n",
       "      <td>-3.0</td>\n",
       "      <td>1069</td>\n",
       "    </tr>\n",
       "    <tr>\n",
       "      <th>4</th>\n",
       "      <td>AL</td>\n",
       "      <td>LIMESTONE</td>\n",
       "      <td>-3.0</td>\n",
       "      <td>1083</td>\n",
       "    </tr>\n",
       "    <tr>\n",
       "      <th>...</th>\n",
       "      <td>...</td>\n",
       "      <td>...</td>\n",
       "      <td>...</td>\n",
       "      <td>...</td>\n",
       "    </tr>\n",
       "    <tr>\n",
       "      <th>1636</th>\n",
       "      <td>WA</td>\n",
       "      <td>STEVENS</td>\n",
       "      <td>-3.5</td>\n",
       "      <td>53065</td>\n",
       "    </tr>\n",
       "    <tr>\n",
       "      <th>1637</th>\n",
       "      <td>WA</td>\n",
       "      <td>THURSTON</td>\n",
       "      <td>-3.5</td>\n",
       "      <td>53067</td>\n",
       "    </tr>\n",
       "    <tr>\n",
       "      <th>1638</th>\n",
       "      <td>WA</td>\n",
       "      <td>WALLA WALLA</td>\n",
       "      <td>-3.5</td>\n",
       "      <td>53071</td>\n",
       "    </tr>\n",
       "    <tr>\n",
       "      <th>1639</th>\n",
       "      <td>WA</td>\n",
       "      <td>WHITMAN</td>\n",
       "      <td>-2.5</td>\n",
       "      <td>53075</td>\n",
       "    </tr>\n",
       "    <tr>\n",
       "      <th>1640</th>\n",
       "      <td>WA</td>\n",
       "      <td>YAKIMA</td>\n",
       "      <td>-2.5</td>\n",
       "      <td>53077</td>\n",
       "    </tr>\n",
       "  </tbody>\n",
       "</table>\n",
       "<p>1641 rows × 4 columns</p>\n",
       "</div>"
      ],
      "text/plain": [
       "     state       county  total    fip\n",
       "0       AL      BALDWIN   -3.0   1003\n",
       "1       AL       GENEVA   -3.0   1061\n",
       "2       AL        HENRY   -3.0   1067\n",
       "3       AL      HOUSTON   -3.0   1069\n",
       "4       AL    LIMESTONE   -3.0   1083\n",
       "...    ...          ...    ...    ...\n",
       "1636    WA      STEVENS   -3.5  53065\n",
       "1637    WA     THURSTON   -3.5  53067\n",
       "1638    WA  WALLA WALLA   -3.5  53071\n",
       "1639    WA      WHITMAN   -2.5  53075\n",
       "1640    WA       YAKIMA   -2.5  53077\n",
       "\n",
       "[1641 rows x 4 columns]"
      ]
     },
     "execution_count": 125,
     "metadata": {},
     "output_type": "execute_result"
    }
   ],
   "source": [
    "import pandas as pd\n",
    "\n",
    "xls = pd.ExcelFile('Tier1CarrierCoverage.xlsx')\n",
    "df = pd.read_excel(xls, 'Tier1', usecols=\"B,C,P\")\n",
    "df.columns = df.columns.str.replace(' ','_')\n",
    "df.columns= df.columns.str.lower()\n",
    "df.county = df.county.str.upper().str.strip()\n",
    "df['county'] = df['county'].str.replace('DOÑA ANA','DONA ANA')\n",
    "fip = pd.read_csv(\"zip_county_fips.csv\")\n",
    "fip['COUNTYNAME'] = fip['COUNTYNAME'].str.replace(' County','')\n",
    "fip.columns = fip.columns.str.replace(' ','_')\n",
    "fip.rename(columns={'COUNTYNAME': 'COUNTY', 'STCOUNTYFP':'FIP'}, inplace=True)\n",
    "fip.columns = fip.columns.str.replace(' ','_')\n",
    "fip.columns= fip.columns.str.lower()\n",
    "fip.county = fip.county.str.strip().str.upper()\n",
    "fip['county'] = fip['county'].str.replace(' PARISH','')\n",
    "test = fip.groupby(['county','state']).max().reset_index()\n",
    "test = test.drop(columns=['zip','classfp'])\n",
    "final = df.merge(test,how='left',left_on=['county','state'],right_on=['county','state'], suffixes=('_ACA','_County'))\n",
    "final"
   ]
  },
  {
   "cell_type": "code",
   "execution_count": 129,
   "metadata": {},
   "outputs": [],
   "source": [
    "import time\n",
    "\n",
    "current_time_sec = int(round(time.time()))\n",
    "# append EventTime feature\n",
    "final['EventTime'] = pd.Series([current_time_sec]*len(final), dtype=\"float64\")"
   ]
  },
  {
   "cell_type": "code",
   "execution_count": 130,
   "metadata": {},
   "outputs": [],
   "source": [
    "def cast_object_to_string(data_frame):\n",
    "    for label in data_frame.columns:\n",
    "        if data_frame.dtypes[label] == 'object':\n",
    "            data_frame[label] = data_frame[label].astype(\"str\").astype(\"string\")\n",
    "\n",
    "# cast object dtype to string. The SageMaker Feature Store Python SDK will then map the string dtype to String feature type.\n",
    "cast_object_to_string(final)"
   ]
  },
  {
   "cell_type": "code",
   "execution_count": 131,
   "metadata": {},
   "outputs": [],
   "source": [
    "from time import gmtime, strftime, sleep\n",
    "\n",
    "tier_feature_group_name = 'hc-ds-pre-aca-fip2tier' + strftime('%d-%H-%M-%S', gmtime())\n",
    "# # fg_timestamp = strftime(\"%Y-%m-%d'T'%H:%M:%SZ\", gmtime())\n",
    "# df['EventTime'] = zip_feature_group_name"
   ]
  },
  {
   "cell_type": "code",
   "execution_count": 132,
   "metadata": {},
   "outputs": [],
   "source": [
    "from sagemaker.feature_store.feature_group import FeatureGroup\n",
    "\n",
    "tier_feature_group = FeatureGroup(name=tier_feature_group_name, sagemaker_session=feature_store_session)"
   ]
  },
  {
   "cell_type": "code",
   "execution_count": 133,
   "metadata": {},
   "outputs": [],
   "source": [
    "record_identifier_feature_name = \"fip\"\n",
    "event_time_feature_name = \"EventTime\""
   ]
  },
  {
   "cell_type": "code",
   "execution_count": 134,
   "metadata": {},
   "outputs": [],
   "source": [
    "tier_feature_group.load_feature_definitions(data_frame=final); # output is suppressed"
   ]
  },
  {
   "cell_type": "code",
   "execution_count": null,
   "metadata": {},
   "outputs": [
    {
     "name": "stdout",
     "output_type": "stream",
     "text": [
      "Waiting for Feature Group Creation\n"
     ]
    }
   ],
   "source": [
    "def wait_for_feature_group_creation_complete(feature_group):\n",
    "    status = feature_group.describe().get(\"FeatureGroupStatus\")\n",
    "    while status == \"Creating\":\n",
    "        print(\"Waiting for Feature Group Creation\")\n",
    "        time.sleep(5)\n",
    "        status = feature_group.describe().get(\"FeatureGroupStatus\")\n",
    "    if status != \"Created\":\n",
    "        raise RuntimeError(f\"Failed to create feature group {feature_group.name}\")\n",
    "    print(f\"FeatureGroup {feature_group.name} successfully created.\")\n",
    "tier_feature_group.create(\n",
    "    s3_uri=f\"s3://{default_s3_bucket_name}/{prefix}\", #offline feature store bucket\n",
    "    record_identifier_name=record_identifier_feature_name,\n",
    "    event_time_feature_name=event_time_feature_name,\n",
    "    role_arn=role,\n",
    "    enable_online_store=True\n",
    ")\n",
    "wait_for_feature_group_creation_complete(feature_group=tier_feature_group)"
   ]
  },
  {
   "cell_type": "code",
   "execution_count": 123,
   "metadata": {},
   "outputs": [
    {
     "data": {
      "text/plain": [
       "{'FeatureGroupArn': 'arn:aws:sagemaker:us-east-1:915124832670:feature-group/hc-ds-pre-aca-mrktshr25-20-10-04',\n",
       " 'FeatureGroupName': 'hc-ds-pre-aca-mrktshr25-20-10-04',\n",
       " 'RecordIdentifierFeatureName': 'state',\n",
       " 'EventTimeFeatureName': 'EventTime',\n",
       " 'FeatureDefinitions': [{'FeatureName': 'state', 'FeatureType': 'String'},\n",
       "  {'FeatureName': 'total_individual_market__enrollment',\n",
       "   'FeatureType': 'Integral'},\n",
       "  {'FeatureName': 'largest_insurer__insurer_name', 'FeatureType': 'String'},\n",
       "  {'FeatureName': 'largest_insurer__enrollment', 'FeatureType': 'Integral'},\n",
       "  {'FeatureName': 'largest_insurer__market_share',\n",
       "   'FeatureType': 'Fractional'},\n",
       "  {'FeatureName': 'second_largest_insurer__insurer_name',\n",
       "   'FeatureType': 'String'},\n",
       "  {'FeatureName': 'second_largest_insurer__enrollment',\n",
       "   'FeatureType': 'Integral'},\n",
       "  {'FeatureName': 'second_largest_insurer__market_share',\n",
       "   'FeatureType': 'Fractional'},\n",
       "  {'FeatureName': 'third_largest_insurer__insurer_name',\n",
       "   'FeatureType': 'String'},\n",
       "  {'FeatureName': 'third_largest_insurer__enrollment',\n",
       "   'FeatureType': 'Fractional'},\n",
       "  {'FeatureName': 'third_largest_insurer__market_share',\n",
       "   'FeatureType': 'Fractional'},\n",
       "  {'FeatureName': 'EventTime', 'FeatureType': 'Fractional'}],\n",
       " 'CreationTime': datetime.datetime(2022, 3, 25, 20, 10, 42, 74000, tzinfo=tzlocal()),\n",
       " 'OnlineStoreConfig': {'EnableOnlineStore': True},\n",
       " 'OfflineStoreConfig': {'S3StorageConfig': {'S3Uri': 's3://sagemaker-us-east-1-915124832670/ hc-ds-pre-aca-mrktshr',\n",
       "   'ResolvedOutputS3Uri': 's3://sagemaker-us-east-1-915124832670/ hc-ds-pre-aca-mrktshr/915124832670/sagemaker/us-east-1/offline-store/hc-ds-pre-aca-mrktshr25-20-10-04-1648239042/data'},\n",
       "  'DisableGlueTableCreation': False,\n",
       "  'DataCatalogConfig': {'TableName': 'hc-ds-pre-aca-mrktshr25-20-10-04-1648239042',\n",
       "   'Catalog': 'AwsDataCatalog',\n",
       "   'Database': 'sagemaker_featurestore'}},\n",
       " 'RoleArn': 'arn:aws:iam::915124832670:role/hc-sagemaker-default-execution-role',\n",
       " 'FeatureGroupStatus': 'Created',\n",
       " 'ResponseMetadata': {'RequestId': 'feea5343-4501-4136-ab83-84657b07197c',\n",
       "  'HTTPStatusCode': 200,\n",
       "  'HTTPHeaders': {'x-amzn-requestid': 'feea5343-4501-4136-ab83-84657b07197c',\n",
       "   'content-type': 'application/x-amz-json-1.1',\n",
       "   'content-length': '2201',\n",
       "   'date': 'Fri, 25 Mar 2022 20:11:05 GMT'},\n",
       "  'RetryAttempts': 0}}"
      ]
     },
     "execution_count": 123,
     "metadata": {},
     "output_type": "execute_result"
    }
   ],
   "source": [
    "tier_feature_group.describe()\n"
   ]
  }
 ],
 "metadata": {
  "instance_type": "ml.t3.medium",
  "kernelspec": {
   "display_name": "Python 3 (Data Science)",
   "language": "python",
   "name": "python3__SAGEMAKER_INTERNAL__arn:aws:sagemaker:us-east-1:081325390199:image/datascience-1.0"
  },
  "language_info": {
   "codemirror_mode": {
    "name": "ipython",
    "version": 3
   },
   "file_extension": ".py",
   "mimetype": "text/x-python",
   "name": "python",
   "nbconvert_exporter": "python",
   "pygments_lexer": "ipython3",
   "version": "3.7.10"
  }
 },
 "nbformat": 4,
 "nbformat_minor": 4
}
