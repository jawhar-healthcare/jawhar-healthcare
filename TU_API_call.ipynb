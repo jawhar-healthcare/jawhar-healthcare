{
 "cells": [
  {
   "cell_type": "code",
   "execution_count": 1,
   "id": "4157c0e8",
   "metadata": {},
   "outputs": [],
   "source": [
    "import numpy as np\n",
    "import json\n",
    "import requests\n",
    "import pickle\n",
    "import pandas as pd\n",
    "\n",
    "# AWS requirements\n",
    "import boto3\n",
    "import sagemaker\n",
    "from sagemaker import get_execution_role\n",
    "from sqlalchemy import create_engine, text\n",
    "from sqlalchemy.orm import sessionmaker\n",
    "\n",
    "from sagemaker.feature_store.feature_group import FeatureGroup\n",
    "\n",
    "\n",
    "#Query transunion information\n",
    "\n",
    "def query_transunion(dict_params: dict):\n",
    "    \n",
    "    \"\"\" Function will use the Transunion API to provide a json response of it\n",
    "    \n",
    "    :param dict_params: Dictionary containing the search headers and content, e.g. {'email': 'romoloinsurance@gmail.com', 'phone': '9543946386'}\n",
    "    :type dict_params: dict\n",
    "    \n",
    "    \"\"\"\n",
    "    \n",
    "    headers={\n",
    "        'Content-type':'application/json',\n",
    "        'Accept':'application/json'\n",
    "    }\n",
    "\n",
    "    url = 'https://api.healthcare.com/third-party/api/v1/third-parties/transunion'\n",
    "    json_object = json.dumps(dict_params)\n",
    "    response = requests.post(url=url, headers=headers, data=json_object)\n",
    "    response_json = json.loads(response.text)\n",
    "    \n",
    "    if 'transaction' in response_json.keys():\n",
    "        if 'output' in response_json['transaction'].keys():\n",
    "            return response_json['transaction']['output']\n",
    "    else: \n",
    "        return None\n",
    "\n",
    "\n",
    "# Getting transunion lead information\n",
    "\n",
    "def process_tu_lead(json_lead):\n",
    "    \n",
    "    \"\"\" Function takes the Transunion response and process it to a dictionary\n",
    "    \n",
    "    :param json_lead: json lead object\n",
    "    :type json_lead: json\n",
    "        \n",
    "    \"\"\"\n",
    "    \n",
    "    if json_lead is None:\n",
    "        return {}\n",
    "    personal_data = json_lead.get('data')\n",
    "    personal_variables = ['email', 'phone', 'first', 'last']\n",
    "\n",
    "    personal_output = {}\n",
    "\n",
    "    if personal_data:\n",
    "        for personal_variable in personal_variables:\n",
    "            personal_variable_output = personal_data.get(personal_variable)\n",
    "            if personal_variable_output:\n",
    "                personal_variable_output = personal_variable_output.lower()\n",
    "            personal_output[personal_variable] = personal_variable_output\n",
    "\n",
    "\n",
    "    demo = json_lead.get('demo')\n",
    "    demo_variables = [('age', 'years'), ('income', 'dollars'), ('children', 'yes'), ('education', 'years'),\n",
    "                     ('homeowner', 'yes'), ('homevalue', 'dollars'), ('resident', 'years'),\n",
    "                     ('occupation', 'first'), ('affiliation', 'conservative'), ('affiliation', 'liberal')]\n",
    "\n",
    "    demo_output = {}\n",
    "\n",
    "    if demo:\n",
    "        for demo_var in demo_variables:\n",
    "            keys = set(demo.keys())\n",
    "\n",
    "            var_name = demo_var[0]\n",
    "            sub_var_name = demo_var[1]\n",
    "            if var_name in keys:\n",
    "                demo_output[f'{var_name}_{sub_var_name}'] = demo[var_name].get(sub_var_name)\n",
    "\n",
    "    demo_output.update(personal_output)\n",
    "\n",
    "    scores = json_lead.get('score')\n",
    "    scores_output = {}\n",
    "    if scores:\n",
    "        for score in scores:\n",
    "            score_name = score.get('name')\n",
    "            score_number = score.get('score')\n",
    "\n",
    "            scores_output[score_name] = int(score_number)\n",
    "\n",
    "    demo_output.update(scores_output)\n",
    "    \n",
    "    return demo_output\n",
    "            "
   ]
  },
  {
   "cell_type": "code",
   "execution_count": 3,
   "id": "e7f5678b",
   "metadata": {},
   "outputs": [],
   "source": [
    "lead = query_transunion({'phone': int(3124784892)})\n",
    "processed_lead = process_tu_lead(lead)"
   ]
  },
  {
   "cell_type": "code",
   "execution_count": 4,
   "id": "58e665b4",
   "metadata": {},
   "outputs": [
    {
     "name": "stdout",
     "output_type": "stream",
     "text": [
      "lead: {'address': {'address': '77 ALLEN ST', 'city': 'BUFFALO', 'state': 'NY', 'zip': '142021319'}, 'data': {'input': 'data', 'first': 'JAWHAR', 'last': 'MOHAMMED', 'address': '77 ALLEN ST', 'city': 'BUFFALO', 'company': 'SERRANO MARIA CONSULTANT', 'dob': '199609', 'phone': '3124784892', 'state': 'NY', 'zip': '142021319'}, 'verify': {'input': 'data', 'first': 'exact match', 'last': 'exact match', 'address': 'exact match', 'company': 'exact match', 'dob': 'exact match', 'phone': 'exact match'}, 'message': [{'input': 'data', 'code': 'AA13', 'message': 'Apartment or highrise address'}, {'input': 'data', 'code': 'AP04', 'message': 'Phone is cellular or mobile'}, {'input': 'data', 'code': 'AA17', 'message': 'Address was DPV confirmed for the primary number only, and secondary number information was missing'}, {'input': 'data', 'code': 'AA23', 'message': 'Address is not receiving delivery'}, {'input': 'data', 'code': 'AA17', 'message': 'Address was DPV confirmed for the primary number only, and secondary number information was missing'}, {'input': 'data', 'code': 'AA23', 'message': 'Address is not receiving delivery'}], 'score': [{'name': 'ebureau-score-market-201801220508', 'range': '0-999', 'score': '222'}, {'name': 'ebureau-score-market-201805170506', 'range': '300-850', 'score': '520'}]}\n"
     ]
    }
   ],
   "source": [
    "print(\"lead:\", lead)"
   ]
  },
  {
   "cell_type": "code",
   "execution_count": 5,
   "id": "01b46ac9",
   "metadata": {},
   "outputs": [
    {
     "name": "stdout",
     "output_type": "stream",
     "text": [
      "processed_lead: {'email': None, 'phone': '3124784892', 'first': 'jawhar', 'last': 'mohammed', 'ebureau-score-market-201801220508': 222, 'ebureau-score-market-201805170506': 520}\n"
     ]
    }
   ],
   "source": [
    "print(\"processed_lead:\", processed_lead)"
   ]
  },
  {
   "cell_type": "code",
   "execution_count": null,
   "id": "ecdaf417",
   "metadata": {},
   "outputs": [],
   "source": []
  }
 ],
 "metadata": {
  "kernelspec": {
   "display_name": "Python 3 (ipykernel)",
   "language": "python",
   "name": "python3"
  },
  "language_info": {
   "codemirror_mode": {
    "name": "ipython",
    "version": 3
   },
   "file_extension": ".py",
   "mimetype": "text/x-python",
   "name": "python",
   "nbconvert_exporter": "python",
   "pygments_lexer": "ipython3",
   "version": "3.10.4"
  }
 },
 "nbformat": 4,
 "nbformat_minor": 5
}
