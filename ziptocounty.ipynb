{
 "cells": [
  {
   "cell_type": "code",
   "execution_count": 147,
   "metadata": {},
   "outputs": [
    {
     "name": "stdout",
     "output_type": "stream",
     "text": [
      "/opt/conda/lib/python3.7/site-packages/secretstorage/dhcrypto.py:16: CryptographyDeprecationWarning: int_from_bytes is deprecated, use int.from_bytes instead\n",
      "  from cryptography.utils import int_from_bytes\n",
      "/opt/conda/lib/python3.7/site-packages/secretstorage/util.py:25: CryptographyDeprecationWarning: int_from_bytes is deprecated, use int.from_bytes instead\n",
      "  from cryptography.utils import int_from_bytes\n",
      "Requirement already satisfied: s3fs in /opt/conda/lib/python3.7/site-packages (2021.11.1)\n",
      "Requirement already satisfied: fsspec==2021.11.1 in /opt/conda/lib/python3.7/site-packages (from s3fs) (2021.11.1)\n",
      "Requirement already satisfied: aiobotocore~=2.0.1 in /opt/conda/lib/python3.7/site-packages (from s3fs) (2.0.1)\n",
      "Requirement already satisfied: aiohttp<=4 in /opt/conda/lib/python3.7/site-packages (from s3fs) (3.8.1)\n",
      "Requirement already satisfied: wrapt>=1.10.10 in /opt/conda/lib/python3.7/site-packages (from aiobotocore~=2.0.1->s3fs) (1.11.2)\n",
      "Requirement already satisfied: aioitertools>=0.5.1 in /opt/conda/lib/python3.7/site-packages (from aiobotocore~=2.0.1->s3fs) (0.8.0)\n",
      "Requirement already satisfied: botocore<1.22.9,>=1.22.8 in /opt/conda/lib/python3.7/site-packages (from aiobotocore~=2.0.1->s3fs) (1.22.8)\n",
      "Requirement already satisfied: attrs>=17.3.0 in /opt/conda/lib/python3.7/site-packages (from aiohttp<=4->s3fs) (19.3.0)\n",
      "Requirement already satisfied: multidict<7.0,>=4.5 in /opt/conda/lib/python3.7/site-packages (from aiohttp<=4->s3fs) (5.2.0)\n",
      "Requirement already satisfied: frozenlist>=1.1.1 in /opt/conda/lib/python3.7/site-packages (from aiohttp<=4->s3fs) (1.2.0)\n",
      "Requirement already satisfied: charset-normalizer<3.0,>=2.0 in /opt/conda/lib/python3.7/site-packages (from aiohttp<=4->s3fs) (2.0.4)\n",
      "Requirement already satisfied: asynctest==0.13.0 in /opt/conda/lib/python3.7/site-packages (from aiohttp<=4->s3fs) (0.13.0)\n",
      "Requirement already satisfied: async-timeout<5.0,>=4.0.0a3 in /opt/conda/lib/python3.7/site-packages (from aiohttp<=4->s3fs) (4.0.1)\n",
      "Requirement already satisfied: aiosignal>=1.1.2 in /opt/conda/lib/python3.7/site-packages (from aiohttp<=4->s3fs) (1.2.0)\n",
      "Requirement already satisfied: yarl<2.0,>=1.0 in /opt/conda/lib/python3.7/site-packages (from aiohttp<=4->s3fs) (1.7.2)\n",
      "Requirement already satisfied: typing-extensions>=3.7.4 in /opt/conda/lib/python3.7/site-packages (from aiohttp<=4->s3fs) (4.0.1)\n",
      "Requirement already satisfied: jmespath<1.0.0,>=0.7.1 in /opt/conda/lib/python3.7/site-packages (from botocore<1.22.9,>=1.22.8->aiobotocore~=2.0.1->s3fs) (0.10.0)\n",
      "Requirement already satisfied: python-dateutil<3.0.0,>=2.1 in /opt/conda/lib/python3.7/site-packages (from botocore<1.22.9,>=1.22.8->aiobotocore~=2.0.1->s3fs) (2.8.1)\n",
      "Requirement already satisfied: urllib3<1.27,>=1.25.4 in /opt/conda/lib/python3.7/site-packages (from botocore<1.22.9,>=1.22.8->aiobotocore~=2.0.1->s3fs) (1.26.7)\n",
      "Requirement already satisfied: idna>=2.0 in /opt/conda/lib/python3.7/site-packages (from yarl<2.0,>=1.0->aiohttp<=4->s3fs) (2.8)\n",
      "Requirement already satisfied: six>=1.5 in /opt/conda/lib/python3.7/site-packages (from python-dateutil<3.0.0,>=2.1->botocore<1.22.9,>=1.22.8->aiobotocore~=2.0.1->s3fs) (1.14.0)\n",
      "\u001b[33mWARNING: Running pip as the 'root' user can result in broken permissions and conflicting behaviour with the system package manager. It is recommended to use a virtual environment instead: https://pip.pypa.io/warnings/venv\u001b[0m\n",
      "\u001b[33mWARNING: You are using pip version 21.3.1; however, version 22.0.4 is available.\n",
      "You should consider upgrading via the '/opt/conda/bin/python -m pip install --upgrade pip' command.\u001b[0m\n"
     ]
    }
   ],
   "source": [
    "!pip install s3fs\n",
    "\n",
    "import boto3\n",
    "import sagemaker\n",
    "from sagemaker.session import Session\n",
    "# from sagemaker.feature_store.feature_group import FeatureGroup\n",
    "\n",
    "region = boto3.Session().region_name\n",
    "\n",
    "boto_session = boto3.Session(region_name=region)\n",
    "\n",
    "sagemaker_client = boto_session.client(service_name='sagemaker', region_name=region)\n",
    "featurestore_runtime = boto_session.client(service_name='sagemaker-featurestore-runtime', region_name=region)\n",
    "# featuregroup_name = 'transactions-fg-manual-ingest'\n",
    "\n",
    "feature_store_session = Session(\n",
    "    boto_session=boto_session,\n",
    "    sagemaker_client=sagemaker_client,\n",
    "    sagemaker_featurestore_runtime_client=featurestore_runtime\n",
    ")\n",
    "# feature_group = FeatureGroup(name=featuregroup_name, sagemaker_session=feature_store_session)"
   ]
  },
  {
   "cell_type": "code",
   "execution_count": 148,
   "metadata": {},
   "outputs": [
    {
     "name": "stdout",
     "output_type": "stream",
     "text": [
      "sagemaker-us-east-1-915124832670\n"
     ]
    }
   ],
   "source": [
    "# record_identifier_feature_name = \"ZIP\"\n",
    "# event_time_feature_name = \"EventTime\"\n",
    "\n",
    "# change the bucket name to your desired bucket name \n",
    "default_s3_bucket_name = feature_store_session.default_bucket()\n",
    "prefix = ' hc-ds-pre-aca-zip'\n",
    "\n",
    "print(default_s3_bucket_name)\n",
    "\n",
    "# fg_test.create(\n",
    "#     s3_uri=f\"s3://{bucket}/{s3_folder}\",\n",
    "#     record_identifier_name=record_identifier_feature_name,\n",
    "#     event_time_feature_name=event_time_feature_name,\n",
    "#     role_arn=role,\n",
    "#     enable_online_store=False)\n"
   ]
  },
  {
   "cell_type": "code",
   "execution_count": 149,
   "metadata": {},
   "outputs": [
    {
     "name": "stdout",
     "output_type": "stream",
     "text": [
      "arn:aws:iam::915124832670:role/hc-sagemaker-default-execution-role\n"
     ]
    }
   ],
   "source": [
    "from sagemaker import get_execution_role\n",
    "\n",
    "# You can modify the following to use a role of your choosing. See the documentation for how to create this.\n",
    "role = get_execution_role()\n",
    "print (role)"
   ]
  },
  {
   "cell_type": "code",
   "execution_count": 150,
   "metadata": {},
   "outputs": [
    {
     "data": {
      "text/html": [
       "<div>\n",
       "<style scoped>\n",
       "    .dataframe tbody tr th:only-of-type {\n",
       "        vertical-align: middle;\n",
       "    }\n",
       "\n",
       "    .dataframe tbody tr th {\n",
       "        vertical-align: top;\n",
       "    }\n",
       "\n",
       "    .dataframe thead th {\n",
       "        text-align: right;\n",
       "    }\n",
       "</style>\n",
       "<table border=\"1\" class=\"dataframe\">\n",
       "  <thead>\n",
       "    <tr style=\"text-align: right;\">\n",
       "      <th></th>\n",
       "      <th>zip</th>\n",
       "      <th>county</th>\n",
       "      <th>state</th>\n",
       "      <th>fip</th>\n",
       "    </tr>\n",
       "  </thead>\n",
       "  <tbody>\n",
       "    <tr>\n",
       "      <th>0</th>\n",
       "      <td>36003</td>\n",
       "      <td>AUTAUGA</td>\n",
       "      <td>AL</td>\n",
       "      <td>1001</td>\n",
       "    </tr>\n",
       "    <tr>\n",
       "      <th>1</th>\n",
       "      <td>36006</td>\n",
       "      <td>AUTAUGA</td>\n",
       "      <td>AL</td>\n",
       "      <td>1001</td>\n",
       "    </tr>\n",
       "    <tr>\n",
       "      <th>2</th>\n",
       "      <td>36008</td>\n",
       "      <td>AUTAUGA</td>\n",
       "      <td>AL</td>\n",
       "      <td>1001</td>\n",
       "    </tr>\n",
       "    <tr>\n",
       "      <th>3</th>\n",
       "      <td>36022</td>\n",
       "      <td>AUTAUGA</td>\n",
       "      <td>AL</td>\n",
       "      <td>1001</td>\n",
       "    </tr>\n",
       "    <tr>\n",
       "      <th>4</th>\n",
       "      <td>36051</td>\n",
       "      <td>AUTAUGA</td>\n",
       "      <td>AL</td>\n",
       "      <td>1001</td>\n",
       "    </tr>\n",
       "    <tr>\n",
       "      <th>...</th>\n",
       "      <td>...</td>\n",
       "      <td>...</td>\n",
       "      <td>...</td>\n",
       "      <td>...</td>\n",
       "    </tr>\n",
       "    <tr>\n",
       "      <th>54201</th>\n",
       "      <td>820</td>\n",
       "      <td>ST. CROIX ISLAND</td>\n",
       "      <td>VI</td>\n",
       "      <td>78010</td>\n",
       "    </tr>\n",
       "    <tr>\n",
       "      <th>54202</th>\n",
       "      <td>840</td>\n",
       "      <td>ST. CROIX ISLAND</td>\n",
       "      <td>VI</td>\n",
       "      <td>78010</td>\n",
       "    </tr>\n",
       "    <tr>\n",
       "      <th>54203</th>\n",
       "      <td>850</td>\n",
       "      <td>ST. CROIX ISLAND</td>\n",
       "      <td>VI</td>\n",
       "      <td>78010</td>\n",
       "    </tr>\n",
       "    <tr>\n",
       "      <th>54204</th>\n",
       "      <td>830</td>\n",
       "      <td>ST. JOHN ISLAND</td>\n",
       "      <td>VI</td>\n",
       "      <td>78020</td>\n",
       "    </tr>\n",
       "    <tr>\n",
       "      <th>54205</th>\n",
       "      <td>802</td>\n",
       "      <td>ST. THOMAS ISLAND</td>\n",
       "      <td>VI</td>\n",
       "      <td>78030</td>\n",
       "    </tr>\n",
       "  </tbody>\n",
       "</table>\n",
       "<p>54206 rows × 4 columns</p>\n",
       "</div>"
      ],
      "text/plain": [
       "         zip             county state    fip\n",
       "0      36003            AUTAUGA    AL   1001\n",
       "1      36006            AUTAUGA    AL   1001\n",
       "2      36008            AUTAUGA    AL   1001\n",
       "3      36022            AUTAUGA    AL   1001\n",
       "4      36051            AUTAUGA    AL   1001\n",
       "...      ...                ...   ...    ...\n",
       "54201    820   ST. CROIX ISLAND    VI  78010\n",
       "54202    840   ST. CROIX ISLAND    VI  78010\n",
       "54203    850   ST. CROIX ISLAND    VI  78010\n",
       "54204    830    ST. JOHN ISLAND    VI  78020\n",
       "54205    802  ST. THOMAS ISLAND    VI  78030\n",
       "\n",
       "[54206 rows x 4 columns]"
      ]
     },
     "execution_count": 150,
     "metadata": {},
     "output_type": "execute_result"
    }
   ],
   "source": [
    "import pandas as pd\n",
    "\n",
    "fip = pd.read_csv(\"zip_county_fips.csv\")\n",
    "fip['COUNTYNAME'] = fip['COUNTYNAME'].str.replace(' County','')\n",
    "fip.columns = fip.columns.str.replace(' ','_')\n",
    "fip.rename(columns={'COUNTYNAME': 'COUNTY', 'STCOUNTYFP':'FIP'}, inplace=True)\n",
    "fip.columns = fip.columns.str.replace(' ','_')\n",
    "fip.columns= fip.columns.str.lower()\n",
    "fip.county = fip.county.str.strip().str.upper()\n",
    "fip['county'] = fip['county'].str.replace(' PARISH','')\n",
    "del fip['classfp']\n",
    "fip"
   ]
  },
  {
   "cell_type": "code",
   "execution_count": 151,
   "metadata": {},
   "outputs": [],
   "source": [
    "import time\n",
    "\n",
    "current_time_sec = int(round(time.time()))\n",
    "# append EventTime feature\n",
    "fip['EventTime'] = pd.Series([current_time_sec]*len(fip), dtype=\"float64\")"
   ]
  },
  {
   "cell_type": "code",
   "execution_count": 152,
   "metadata": {},
   "outputs": [],
   "source": [
    "def cast_object_to_string(data_frame):\n",
    "    for label in data_frame.columns:\n",
    "        if data_frame.dtypes[label] == 'object':\n",
    "            data_frame[label] = data_frame[label].astype(\"str\").astype(\"string\")\n",
    "\n",
    "# cast object dtype to string. The SageMaker Feature Store Python SDK will then map the string dtype to String feature type.\n",
    "cast_object_to_string(fip)"
   ]
  },
  {
   "cell_type": "code",
   "execution_count": 153,
   "metadata": {},
   "outputs": [],
   "source": [
    "from time import gmtime, strftime, sleep\n",
    "\n",
    "tier_feature_group_name = 'hc-ds-pre-aca-zip' + strftime('%d-%H-%M-%S', gmtime())\n",
    "# # fg_timestamp = strftime(\"%Y-%m-%d'T'%H:%M:%SZ\", gmtime())\n",
    "# df['EventTime'] = zip_feature_group_name"
   ]
  },
  {
   "cell_type": "code",
   "execution_count": 154,
   "metadata": {},
   "outputs": [],
   "source": [
    "from sagemaker.feature_store.feature_group import FeatureGroup\n",
    "\n",
    "tier_feature_group = FeatureGroup(name=tier_feature_group_name, sagemaker_session=feature_store_session)"
   ]
  },
  {
   "cell_type": "code",
   "execution_count": 155,
   "metadata": {},
   "outputs": [],
   "source": [
    "record_identifier_feature_name = \"zip\"\n",
    "event_time_feature_name = \"EventTime\""
   ]
  },
  {
   "cell_type": "code",
   "execution_count": 156,
   "metadata": {},
   "outputs": [],
   "source": [
    "tier_feature_group.load_feature_definitions(data_frame=fip); # output is suppressed"
   ]
  },
  {
   "cell_type": "code",
   "execution_count": 157,
   "metadata": {},
   "outputs": [
    {
     "name": "stdout",
     "output_type": "stream",
     "text": [
      "Waiting for Feature Group Creation\n",
      "Waiting for Feature Group Creation\n",
      "Waiting for Feature Group Creation\n",
      "Waiting for Feature Group Creation\n",
      "Waiting for Feature Group Creation\n",
      "FeatureGroup hc-ds-pre-aca-zip29-13-32-09 successfully created.\n"
     ]
    }
   ],
   "source": [
    "def wait_for_feature_group_creation_complete(feature_group):\n",
    "    status = feature_group.describe().get(\"FeatureGroupStatus\")\n",
    "    while status == \"Creating\":\n",
    "        print(\"Waiting for Feature Group Creation\")\n",
    "        time.sleep(5)\n",
    "        status = feature_group.describe().get(\"FeatureGroupStatus\")\n",
    "    if status != \"Created\":\n",
    "        raise RuntimeError(f\"Failed to create feature group {feature_group.name}\")\n",
    "    print(f\"FeatureGroup {feature_group.name} successfully created.\")\n",
    "tier_feature_group.create(\n",
    "    s3_uri=f\"s3://{default_s3_bucket_name}/{prefix}\", #offline feature store bucket\n",
    "    record_identifier_name=record_identifier_feature_name,\n",
    "    event_time_feature_name=event_time_feature_name,\n",
    "    role_arn=role,\n",
    "    enable_online_store=True\n",
    ")\n",
    "wait_for_feature_group_creation_complete(feature_group=tier_feature_group)"
   ]
  },
  {
   "cell_type": "code",
   "execution_count": 178,
   "metadata": {},
   "outputs": [
    {
     "data": {
      "text/plain": [
       "{'FeatureGroupArn': 'arn:aws:sagemaker:us-east-1:915124832670:feature-group/zip-feature-group-25-18-27-24',\n",
       " 'FeatureGroupName': 'zip-feature-group-25-18-27-24',\n",
       " 'RecordIdentifierFeatureName': 'ZIP',\n",
       " 'EventTimeFeatureName': 'EventTime',\n",
       " 'FeatureDefinitions': [{'FeatureName': 'ZIP', 'FeatureType': 'Integral'},\n",
       "  {'FeatureName': 'COUNTYNAME', 'FeatureType': 'String'},\n",
       "  {'FeatureName': 'STATE', 'FeatureType': 'String'},\n",
       "  {'FeatureName': 'STCOUNTYFP', 'FeatureType': 'Integral'},\n",
       "  {'FeatureName': 'CLASSFP', 'FeatureType': 'String'},\n",
       "  {'FeatureName': 'EventTime', 'FeatureType': 'String'}],\n",
       " 'CreationTime': datetime.datetime(2022, 3, 25, 18, 27, 39, 750000, tzinfo=tzlocal()),\n",
       " 'OnlineStoreConfig': {'EnableOnlineStore': True},\n",
       " 'OfflineStoreConfig': {'S3StorageConfig': {'S3Uri': 's3://sagemaker-us-east-1-915124832670/ hc-ds-pre-aca-zipdata',\n",
       "   'ResolvedOutputS3Uri': 's3://sagemaker-us-east-1-915124832670/ hc-ds-pre-aca-zipdata/915124832670/sagemaker/us-east-1/offline-store/zip-feature-group-25-18-27-24-1648232859/data'},\n",
       "  'DisableGlueTableCreation': False,\n",
       "  'DataCatalogConfig': {'TableName': 'zip-feature-group-25-18-27-24-1648232859',\n",
       "   'Catalog': 'AwsDataCatalog',\n",
       "   'Database': 'sagemaker_featurestore'}},\n",
       " 'RoleArn': 'arn:aws:iam::915124832670:role/hc-sagemaker-default-execution-role',\n",
       " 'FeatureGroupStatus': 'Created',\n",
       " 'ResponseMetadata': {'RequestId': 'facd365c-f2b0-4250-b8fe-0f7c5a0e8e77',\n",
       "  'HTTPStatusCode': 200,\n",
       "  'HTTPHeaders': {'x-amzn-requestid': 'facd365c-f2b0-4250-b8fe-0f7c5a0e8e77',\n",
       "   'content-type': 'application/x-amz-json-1.1',\n",
       "   'content-length': '1613',\n",
       "   'date': 'Tue, 29 Mar 2022 14:09:31 GMT'},\n",
       "  'RetryAttempts': 0}}"
      ]
     },
     "execution_count": 178,
     "metadata": {},
     "output_type": "execute_result"
    }
   ],
   "source": [
    "zip_feature_group.describe()\n"
   ]
  },
  {
   "cell_type": "code",
   "execution_count": 165,
   "metadata": {},
   "outputs": [
    {
     "data": {
      "text/plain": [
       "{'FeatureGroupSummaries': [{'FeatureGroupName': 'zipcode-feature-group-09-21-20-34',\n",
       "   'FeatureGroupArn': 'arn:aws:sagemaker:us-east-1:915124832670:feature-group/zipcode-feature-group-09-21-20-34',\n",
       "   'CreationTime': datetime.datetime(2021, 11, 9, 21, 22, 23, 730000, tzinfo=tzlocal()),\n",
       "   'FeatureGroupStatus': 'Created',\n",
       "   'OfflineStoreStatus': {'Status': 'Active'}},\n",
       "  {'FeatureGroupName': 'zipcode-feature-group-09-00-44-20',\n",
       "   'FeatureGroupArn': 'arn:aws:sagemaker:us-east-1:915124832670:feature-group/zipcode-feature-group-09-00-44-20',\n",
       "   'CreationTime': datetime.datetime(2021, 5, 9, 0, 44, 54, 606000, tzinfo=tzlocal()),\n",
       "   'FeatureGroupStatus': 'Created',\n",
       "   'OfflineStoreStatus': {'Status': 'Active'}},\n",
       "  {'FeatureGroupName': 'zipcode-feature-group-05-17-45-21',\n",
       "   'FeatureGroupArn': 'arn:aws:sagemaker:us-east-1:915124832670:feature-group/zipcode-feature-group-05-17-45-21',\n",
       "   'CreationTime': datetime.datetime(2021, 5, 5, 17, 54, 56, 88000, tzinfo=tzlocal()),\n",
       "   'FeatureGroupStatus': 'Created',\n",
       "   'OfflineStoreStatus': {'Status': 'Active'}},\n",
       "  {'FeatureGroupName': 'zip-feature-group-25-18-27-24',\n",
       "   'FeatureGroupArn': 'arn:aws:sagemaker:us-east-1:915124832670:feature-group/zip-feature-group-25-18-27-24',\n",
       "   'CreationTime': datetime.datetime(2022, 3, 25, 18, 27, 39, 750000, tzinfo=tzlocal()),\n",
       "   'FeatureGroupStatus': 'Created'},\n",
       "  {'FeatureGroupName': 'reviews-feature-group-1616285139',\n",
       "   'FeatureGroupArn': 'arn:aws:sagemaker:us-east-1:915124832670:feature-group/reviews-feature-group-1616285139',\n",
       "   'CreationTime': datetime.datetime(2021, 3, 21, 0, 12, 42, 941000, tzinfo=tzlocal()),\n",
       "   'FeatureGroupStatus': 'Created',\n",
       "   'OfflineStoreStatus': {'Status': 'Active'}},\n",
       "  {'FeatureGroupName': 'publisher-pricing-sources-lagged',\n",
       "   'FeatureGroupArn': 'arn:aws:sagemaker:us-east-1:915124832670:feature-group/publisher-pricing-sources-lagged',\n",
       "   'CreationTime': datetime.datetime(2021, 10, 27, 2, 49, 4, 722000, tzinfo=tzlocal()),\n",
       "   'FeatureGroupStatus': 'Created',\n",
       "   'OfflineStoreStatus': {'Status': 'Active'}},\n",
       "  {'FeatureGroupName': 'publisher-pricing-lagged-sources',\n",
       "   'FeatureGroupArn': 'arn:aws:sagemaker:us-east-1:915124832670:feature-group/publisher-pricing-lagged-sources',\n",
       "   'CreationTime': datetime.datetime(2021, 10, 27, 3, 37, 53, 332000, tzinfo=tzlocal()),\n",
       "   'FeatureGroupStatus': 'Created',\n",
       "   'OfflineStoreStatus': {'Status': 'Active'}},\n",
       "  {'FeatureGroupName': 'nanpa-feature-group-29-20-21-37',\n",
       "   'FeatureGroupArn': 'arn:aws:sagemaker:us-east-1:915124832670:feature-group/nanpa-feature-group-29-20-21-37',\n",
       "   'CreationTime': datetime.datetime(2021, 10, 29, 20, 21, 46, 625000, tzinfo=tzlocal()),\n",
       "   'FeatureGroupStatus': 'Created',\n",
       "   'OfflineStoreStatus': {'Status': 'Active'}},\n",
       "  {'FeatureGroupName': 'nanpa-feature-group-29-19-55-00',\n",
       "   'FeatureGroupArn': 'arn:aws:sagemaker:us-east-1:915124832670:feature-group/nanpa-feature-group-29-19-55-00',\n",
       "   'CreationTime': datetime.datetime(2021, 10, 29, 20, 4, 48, 929000, tzinfo=tzlocal()),\n",
       "   'FeatureGroupStatus': 'Created',\n",
       "   'OfflineStoreStatus': {'Status': 'Active'}},\n",
       "  {'FeatureGroupName': 'nanpa-feature-group-10-04-06-36',\n",
       "   'FeatureGroupArn': 'arn:aws:sagemaker:us-east-1:915124832670:feature-group/nanpa-feature-group-10-04-06-36',\n",
       "   'CreationTime': datetime.datetime(2021, 6, 10, 4, 10, 17, 119000, tzinfo=tzlocal()),\n",
       "   'FeatureGroupStatus': 'Created',\n",
       "   'OfflineStoreStatus': {'Status': 'Active'}}],\n",
       " 'NextToken': 'cIws2QhTXUIa8bi8VLmHGRlpq5btc6yB1x/r3BhQncK9E8yhpysMPlivJCz+4bjxPXbaLzY5EqHOe+vog+m3x+0mHLofYg+riMzKDFxQvN5NzKA454I0Zl1N3sb5e/3qZItWHwYODxlIw683jQzKEEyvwyDrKQ5QJi34PHLsoMcrQ5c29ltuK1S0EfsyaAHU4X1vNN5Hd11oDwVjwtdS9EXilxQLbrixFkH9Hyf+eTY9WOAP1ShDzxzrIvzmFISrJrhsr8SuYWAviypNrku6U3f9XeFgUtRZ/eagA72g7eZoq3Zvargof8zQcy7/A9b9Q5p0q3out335Kh80vnzZRyC5kchSOUet1xDHy5V8UDem+9yRk9wQKHU741HY7BrTv+8NftJSobpd/BaR1pKS+jhA5XpWdXArysSPjTRx1R8DZXTNxSHnQUzIyZGKWCKlaXwSu68/cBKexmU44GIzWF0DaC9ruTV4OmCsX8apqEWTbPurEPeorHABT+oa72O+lr6vRulvH2Q5ey5Mx6gDVddMTU2vJYlJOZahyHk5SEpgWkg6vn0FcErt5iJtEQ==',\n",
       " 'ResponseMetadata': {'RequestId': '3e0564fe-1ba2-452e-befe-d77b4821d5d7',\n",
       "  'HTTPStatusCode': 200,\n",
       "  'HTTPHeaders': {'x-amzn-requestid': '3e0564fe-1ba2-452e-befe-d77b4821d5d7',\n",
       "   'content-type': 'application/x-amz-json-1.1',\n",
       "   'content-length': '3249',\n",
       "   'date': 'Tue, 29 Mar 2022 13:46:28 GMT'},\n",
       "  'RetryAttempts': 0}}"
      ]
     },
     "execution_count": 165,
     "metadata": {},
     "output_type": "execute_result"
    }
   ],
   "source": [
    "sagemaker.Session().boto_session.client(\n",
    "    \"sagemaker\", region_name=region\n",
    ").list_feature_groups() "
   ]
  },
  {
   "cell_type": "code",
   "execution_count": 166,
   "metadata": {},
   "outputs": [
    {
     "data": {
      "text/plain": [
       "IngestionManagerPandas(feature_group_name='hc-ds-pre-aca-zip29-13-32-09', sagemaker_fs_runtime_client_config=<botocore.config.Config object at 0x7efec4f13510>, max_workers=3, max_processes=1, _async_result=<multiprocess.pool.MapResult object at 0x7efed6c5edd0>, _processing_pool=<pool ProcessPool(ncpus=1)>, _failed_indices=[])"
      ]
     },
     "execution_count": 166,
     "metadata": {},
     "output_type": "execute_result"
    }
   ],
   "source": [
    "tier_feature_group.ingest(data_frame=fip, max_workers=3, wait=True)"
   ]
  },
  {
   "cell_type": "code",
   "execution_count": 176,
   "metadata": {},
   "outputs": [],
   "source": [
    "customer_id = 14202\n",
    "customers_feature_group_name = 'hc-ds-pre-aca-mrktshr25-20-10-04'\n",
    "sample_record = sagemaker.Session().boto_session.client(\n",
    "    \"sagemaker-featurestore-runtime\", region_name=region\n",
    ").get_record(\n",
    "    FeatureGroupName=customers_feature_group_name, RecordIdentifierValueAsString=str(customer_id)\n",
    ")"
   ]
  },
  {
   "cell_type": "code",
   "execution_count": 177,
   "metadata": {},
   "outputs": [
    {
     "data": {
      "text/plain": [
       "{'ResponseMetadata': {'RequestId': '5c4fed5e-94e2-429e-a233-66ebd05fed63',\n",
       "  'HTTPStatusCode': 200,\n",
       "  'HTTPHeaders': {'x-amzn-requestid': '5c4fed5e-94e2-429e-a233-66ebd05fed63',\n",
       "   'content-type': 'application/json',\n",
       "   'content-length': '15',\n",
       "   'date': 'Tue, 29 Mar 2022 14:08:26 GMT'},\n",
       "  'RetryAttempts': 0}}"
      ]
     },
     "execution_count": 177,
     "metadata": {},
     "output_type": "execute_result"
    }
   ],
   "source": [
    "sample_record\n"
   ]
  },
  {
   "cell_type": "code",
   "execution_count": 162,
   "metadata": {},
   "outputs": [
    {
     "ename": "ParamValidationError",
     "evalue": "Parameter validation failed:\nInvalid type for parameter RecordIdentifierValueAsString, value: <class 'zip'>, type: <class 'type'>, valid types: <class 'str'>",
     "output_type": "error",
     "traceback": [
      "\u001b[0;31m---------------------------------------------------------------------------\u001b[0m",
      "\u001b[0;31mParamValidationError\u001b[0m                      Traceback (most recent call last)",
      "\u001b[0;32m<ipython-input-162-4545fd001e66>\u001b[0m in \u001b[0;36m<module>\u001b[0;34m\u001b[0m\n\u001b[1;32m      1\u001b[0m \u001b[0mrecord_identifier_value\u001b[0m \u001b[0;34m=\u001b[0m \u001b[0mstr\u001b[0m\u001b[0;34m(\u001b[0m\u001b[0;36m14202\u001b[0m\u001b[0;34m)\u001b[0m\u001b[0;34m\u001b[0m\u001b[0;34m\u001b[0m\u001b[0m\n\u001b[0;32m----> 2\u001b[0;31m \u001b[0mfeaturestore_runtime\u001b[0m\u001b[0;34m.\u001b[0m\u001b[0mget_record\u001b[0m\u001b[0;34m(\u001b[0m\u001b[0mFeatureGroupName\u001b[0m\u001b[0;34m=\u001b[0m\u001b[0;34m'hc-ds-pre-aca-zip29-13-32-09'\u001b[0m\u001b[0;34m,\u001b[0m \u001b[0mRecordIdentifierValueAsString\u001b[0m\u001b[0;34m=\u001b[0m\u001b[0mzip\u001b[0m\u001b[0;34m)\u001b[0m\u001b[0;34m\u001b[0m\u001b[0;34m\u001b[0m\u001b[0m\n\u001b[0m",
      "\u001b[0;32m/opt/conda/lib/python3.7/site-packages/botocore/client.py\u001b[0m in \u001b[0;36m_api_call\u001b[0;34m(self, *args, **kwargs)\u001b[0m\n\u001b[1;32m    386\u001b[0m                     \"%s() only accepts keyword arguments.\" % py_operation_name)\n\u001b[1;32m    387\u001b[0m             \u001b[0;31m# The \"self\" in this scope is referring to the BaseClient.\u001b[0m\u001b[0;34m\u001b[0m\u001b[0;34m\u001b[0m\u001b[0;34m\u001b[0m\u001b[0m\n\u001b[0;32m--> 388\u001b[0;31m             \u001b[0;32mreturn\u001b[0m \u001b[0mself\u001b[0m\u001b[0;34m.\u001b[0m\u001b[0m_make_api_call\u001b[0m\u001b[0;34m(\u001b[0m\u001b[0moperation_name\u001b[0m\u001b[0;34m,\u001b[0m \u001b[0mkwargs\u001b[0m\u001b[0;34m)\u001b[0m\u001b[0;34m\u001b[0m\u001b[0;34m\u001b[0m\u001b[0m\n\u001b[0m\u001b[1;32m    389\u001b[0m \u001b[0;34m\u001b[0m\u001b[0m\n\u001b[1;32m    390\u001b[0m         \u001b[0m_api_call\u001b[0m\u001b[0;34m.\u001b[0m\u001b[0m__name__\u001b[0m \u001b[0;34m=\u001b[0m \u001b[0mstr\u001b[0m\u001b[0;34m(\u001b[0m\u001b[0mpy_operation_name\u001b[0m\u001b[0;34m)\u001b[0m\u001b[0;34m\u001b[0m\u001b[0;34m\u001b[0m\u001b[0m\n",
      "\u001b[0;32m/opt/conda/lib/python3.7/site-packages/botocore/client.py\u001b[0m in \u001b[0;36m_make_api_call\u001b[0;34m(self, operation_name, api_params)\u001b[0m\n\u001b[1;32m    679\u001b[0m         }\n\u001b[1;32m    680\u001b[0m         request_dict = self._convert_to_request_dict(\n\u001b[0;32m--> 681\u001b[0;31m             api_params, operation_model, context=request_context)\n\u001b[0m\u001b[1;32m    682\u001b[0m \u001b[0;34m\u001b[0m\u001b[0m\n\u001b[1;32m    683\u001b[0m         \u001b[0mservice_id\u001b[0m \u001b[0;34m=\u001b[0m \u001b[0mself\u001b[0m\u001b[0;34m.\u001b[0m\u001b[0m_service_model\u001b[0m\u001b[0;34m.\u001b[0m\u001b[0mservice_id\u001b[0m\u001b[0;34m.\u001b[0m\u001b[0mhyphenize\u001b[0m\u001b[0;34m(\u001b[0m\u001b[0;34m)\u001b[0m\u001b[0;34m\u001b[0m\u001b[0;34m\u001b[0m\u001b[0m\n",
      "\u001b[0;32m/opt/conda/lib/python3.7/site-packages/botocore/client.py\u001b[0m in \u001b[0;36m_convert_to_request_dict\u001b[0;34m(self, api_params, operation_model, context)\u001b[0m\n\u001b[1;32m    727\u001b[0m             api_params, operation_model, context)\n\u001b[1;32m    728\u001b[0m         request_dict = self._serializer.serialize_to_request(\n\u001b[0;32m--> 729\u001b[0;31m             api_params, operation_model)\n\u001b[0m\u001b[1;32m    730\u001b[0m         \u001b[0;32mif\u001b[0m \u001b[0;32mnot\u001b[0m \u001b[0mself\u001b[0m\u001b[0;34m.\u001b[0m\u001b[0m_client_config\u001b[0m\u001b[0;34m.\u001b[0m\u001b[0minject_host_prefix\u001b[0m\u001b[0;34m:\u001b[0m\u001b[0;34m\u001b[0m\u001b[0;34m\u001b[0m\u001b[0m\n\u001b[1;32m    731\u001b[0m             \u001b[0mrequest_dict\u001b[0m\u001b[0;34m.\u001b[0m\u001b[0mpop\u001b[0m\u001b[0;34m(\u001b[0m\u001b[0;34m'host_prefix'\u001b[0m\u001b[0;34m,\u001b[0m \u001b[0;32mNone\u001b[0m\u001b[0;34m)\u001b[0m\u001b[0;34m\u001b[0m\u001b[0;34m\u001b[0m\u001b[0m\n",
      "\u001b[0;32m/opt/conda/lib/python3.7/site-packages/botocore/validate.py\u001b[0m in \u001b[0;36mserialize_to_request\u001b[0;34m(self, parameters, operation_model)\u001b[0m\n\u001b[1;32m    358\u001b[0m                                                     operation_model.input_shape)\n\u001b[1;32m    359\u001b[0m             \u001b[0;32mif\u001b[0m \u001b[0mreport\u001b[0m\u001b[0;34m.\u001b[0m\u001b[0mhas_errors\u001b[0m\u001b[0;34m(\u001b[0m\u001b[0;34m)\u001b[0m\u001b[0;34m:\u001b[0m\u001b[0;34m\u001b[0m\u001b[0;34m\u001b[0m\u001b[0m\n\u001b[0;32m--> 360\u001b[0;31m                 \u001b[0;32mraise\u001b[0m \u001b[0mParamValidationError\u001b[0m\u001b[0;34m(\u001b[0m\u001b[0mreport\u001b[0m\u001b[0;34m=\u001b[0m\u001b[0mreport\u001b[0m\u001b[0;34m.\u001b[0m\u001b[0mgenerate_report\u001b[0m\u001b[0;34m(\u001b[0m\u001b[0;34m)\u001b[0m\u001b[0;34m)\u001b[0m\u001b[0;34m\u001b[0m\u001b[0;34m\u001b[0m\u001b[0m\n\u001b[0m\u001b[1;32m    361\u001b[0m         return self._serializer.serialize_to_request(parameters,\n\u001b[1;32m    362\u001b[0m                                                      operation_model)\n",
      "\u001b[0;31mParamValidationError\u001b[0m: Parameter validation failed:\nInvalid type for parameter RecordIdentifierValueAsString, value: <class 'zip'>, type: <class 'type'>, valid types: <class 'str'>"
     ]
    }
   ],
   "source": [
    "# record_identifier_value = str(14202)\n",
    "# featurestore_runtime.get_record(FeatureGroupName='hc-ds-pre-aca-zip29-13-32-09', RecordIdentifierValueAsString=zip)"
   ]
  }
 ],
 "metadata": {
  "instance_type": "ml.t3.medium",
  "kernelspec": {
   "display_name": "Python 3 (Data Science)",
   "language": "python",
   "name": "python3__SAGEMAKER_INTERNAL__arn:aws:sagemaker:us-east-1:081325390199:image/datascience-1.0"
  },
  "language_info": {
   "codemirror_mode": {
    "name": "ipython",
    "version": 3
   },
   "file_extension": ".py",
   "mimetype": "text/x-python",
   "name": "python",
   "nbconvert_exporter": "python",
   "pygments_lexer": "ipython3",
   "version": "3.7.10"
  }
 },
 "nbformat": 4,
 "nbformat_minor": 4
}
